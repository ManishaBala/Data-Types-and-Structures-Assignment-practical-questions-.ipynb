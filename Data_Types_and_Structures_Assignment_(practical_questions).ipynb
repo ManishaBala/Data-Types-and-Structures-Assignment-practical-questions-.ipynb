{
  "nbformat": 4,
  "nbformat_minor": 0,
  "metadata": {
    "colab": {
      "provenance": []
    },
    "kernelspec": {
      "name": "python3",
      "display_name": "Python 3"
    },
    "language_info": {
      "name": "python"
    }
  },
  "cells": [
    {
      "cell_type": "markdown",
      "source": [
        "###1.Write a code to create a string with your name and print it.\n"
      ],
      "metadata": {
        "id": "WaC_064J0KuQ"
      }
    },
    {
      "cell_type": "code",
      "source": [
        "my_name = \"Manisha Bala\""
      ],
      "metadata": {
        "id": "dmYa5r4Y0Slr"
      },
      "execution_count": 1,
      "outputs": []
    },
    {
      "cell_type": "code",
      "source": [
        "print(\"My name is:\",my_name)"
      ],
      "metadata": {
        "colab": {
          "base_uri": "https://localhost:8080/"
        },
        "id": "hONSTRm85Lff",
        "outputId": "a18848a4-ccff-4aee-8b81-921a61c95625"
      },
      "execution_count": 2,
      "outputs": [
        {
          "output_type": "stream",
          "name": "stdout",
          "text": [
            "My name is: Manisha Bala\n"
          ]
        }
      ]
    },
    {
      "cell_type": "code",
      "source": [],
      "metadata": {
        "id": "sbFpm5Qw5K33"
      },
      "execution_count": 2,
      "outputs": []
    },
    {
      "cell_type": "markdown",
      "source": [
        "###2. Write a code to find the length of the string \"Hello World\"."
      ],
      "metadata": {
        "id": "me3_aQfA3vFu"
      }
    },
    {
      "cell_type": "code",
      "source": [
        "string = \"Hello World\"\n"
      ],
      "metadata": {
        "id": "b436yFy-36Sp"
      },
      "execution_count": 3,
      "outputs": []
    },
    {
      "cell_type": "code",
      "source": [
        "length=len(string)\n"
      ],
      "metadata": {
        "id": "ifEQAFYA4vOn"
      },
      "execution_count": 4,
      "outputs": []
    },
    {
      "cell_type": "code",
      "source": [
        "print(\"The length of the string is:\",length)"
      ],
      "metadata": {
        "colab": {
          "base_uri": "https://localhost:8080/"
        },
        "id": "YhIeLhuu5TKU",
        "outputId": "b7f08159-7551-4b76-b034-777e82baf41f"
      },
      "execution_count": 5,
      "outputs": [
        {
          "output_type": "stream",
          "name": "stdout",
          "text": [
            "The length of the string is: 11\n"
          ]
        }
      ]
    },
    {
      "cell_type": "markdown",
      "source": [
        "###3. Write a code to slice the first 3 characters from the string \"Python Programming\".\n"
      ],
      "metadata": {
        "id": "KZbJN-UB5V3_"
      }
    },
    {
      "cell_type": "code",
      "source": [
        "my_string = \"Python Programming\""
      ],
      "metadata": {
        "id": "0YMOwLm-6dtk"
      },
      "execution_count": 6,
      "outputs": []
    },
    {
      "cell_type": "code",
      "source": [
        "sliced_string=my_string[:3]"
      ],
      "metadata": {
        "id": "Jk6dVdJT793q"
      },
      "execution_count": 7,
      "outputs": []
    },
    {
      "cell_type": "code",
      "source": [
        "print(\"The first 3 characters of the string is :\",sliced_string)"
      ],
      "metadata": {
        "colab": {
          "base_uri": "https://localhost:8080/"
        },
        "id": "a0VN5rRJ8WwX",
        "outputId": "a9174b1a-3da8-4068-f0b2-27ed24a17952"
      },
      "execution_count": 8,
      "outputs": [
        {
          "output_type": "stream",
          "name": "stdout",
          "text": [
            "The first 3 characters of the string is : Pyt\n"
          ]
        }
      ]
    },
    {
      "cell_type": "markdown",
      "source": [
        "###4.Write a code to convert the string \"hello\" to uppercase."
      ],
      "metadata": {
        "id": "_tHDHtU08_ew"
      }
    },
    {
      "cell_type": "code",
      "source": [
        "text = \"hello\""
      ],
      "metadata": {
        "id": "4tnaq95T9JWD"
      },
      "execution_count": 9,
      "outputs": []
    },
    {
      "cell_type": "code",
      "source": [
        "uppercase_text = text.upper()"
      ],
      "metadata": {
        "id": "4rHmWK3E9KbQ"
      },
      "execution_count": 10,
      "outputs": []
    },
    {
      "cell_type": "code",
      "source": [
        "print(\"The uppercase is :\",uppercase_text)"
      ],
      "metadata": {
        "colab": {
          "base_uri": "https://localhost:8080/"
        },
        "id": "XsLGIHRa9KXn",
        "outputId": "3dba9978-c34f-400b-c726-644e887c32b4"
      },
      "execution_count": 11,
      "outputs": [
        {
          "output_type": "stream",
          "name": "stdout",
          "text": [
            "The uppercase is : HELLO\n"
          ]
        }
      ]
    },
    {
      "cell_type": "markdown",
      "source": [
        "###5. Write a code to replace the word \"apple\" with \"orange\" in the string \" I like apple\"."
      ],
      "metadata": {
        "id": "d-J2q5Ux_wbh"
      }
    },
    {
      "cell_type": "code",
      "source": [
        "my_string = \"I like apple\""
      ],
      "metadata": {
        "id": "CHSb-ztaAB0u"
      },
      "execution_count": 12,
      "outputs": []
    },
    {
      "cell_type": "code",
      "source": [
        "new_string = my_string.replace(\"apple\",\"orange\")"
      ],
      "metadata": {
        "id": "0B6qkngRAIME"
      },
      "execution_count": 13,
      "outputs": []
    },
    {
      "cell_type": "code",
      "source": [
        "print(new_string)"
      ],
      "metadata": {
        "colab": {
          "base_uri": "https://localhost:8080/"
        },
        "id": "KAFym4aRAnUz",
        "outputId": "d3cd8a33-2f29-44aa-fbc7-c3dc28afb184"
      },
      "execution_count": 14,
      "outputs": [
        {
          "output_type": "stream",
          "name": "stdout",
          "text": [
            "I like orange\n"
          ]
        }
      ]
    },
    {
      "cell_type": "markdown",
      "source": [
        "###6.Write a code to create a list with numbers 1 to 5 and print it."
      ],
      "metadata": {
        "id": "MguqJzgsC91I"
      }
    },
    {
      "cell_type": "code",
      "source": [
        "numbers = [1,2,3,4,5]"
      ],
      "metadata": {
        "id": "WMegrh3xDIHw"
      },
      "execution_count": 15,
      "outputs": []
    },
    {
      "cell_type": "code",
      "source": [
        "print(numbers)"
      ],
      "metadata": {
        "colab": {
          "base_uri": "https://localhost:8080/"
        },
        "id": "Ysagj8K_DW02",
        "outputId": "f05bc6cc-d2fd-49a1-8e31-621f619479d8"
      },
      "execution_count": 16,
      "outputs": [
        {
          "output_type": "stream",
          "name": "stdout",
          "text": [
            "[1, 2, 3, 4, 5]\n"
          ]
        }
      ]
    },
    {
      "cell_type": "markdown",
      "source": [
        "###7. Write a code to append the number 10 to the list [1, 2, 3, 4]."
      ],
      "metadata": {
        "id": "WvDfhZqiD1jZ"
      }
    },
    {
      "cell_type": "code",
      "source": [
        "numbers = [1, 2, 3, 4]"
      ],
      "metadata": {
        "id": "4HXDVs08D1_E"
      },
      "execution_count": 17,
      "outputs": []
    },
    {
      "cell_type": "code",
      "source": [
        "numbers.append(10)"
      ],
      "metadata": {
        "id": "dMpqhq4mEJOa"
      },
      "execution_count": 18,
      "outputs": []
    },
    {
      "cell_type": "code",
      "source": [
        "print(numbers)"
      ],
      "metadata": {
        "colab": {
          "base_uri": "https://localhost:8080/"
        },
        "id": "Bv_Yr7fZEjBC",
        "outputId": "dd6794be-6ac1-4d92-c93b-7eb543bda56a"
      },
      "execution_count": 19,
      "outputs": [
        {
          "output_type": "stream",
          "name": "stdout",
          "text": [
            "[1, 2, 3, 4, 10]\n"
          ]
        }
      ]
    },
    {
      "cell_type": "markdown",
      "source": [
        "###8. Write a code to remove the number 3 from the list [1,2,3,4,5]."
      ],
      "metadata": {
        "id": "Up5NK3ujF0l5"
      }
    },
    {
      "cell_type": "code",
      "source": [
        "numbers = [1, 2, 3, 4, 5]"
      ],
      "metadata": {
        "id": "ZPr7VODJGzY9"
      },
      "execution_count": 20,
      "outputs": []
    },
    {
      "cell_type": "code",
      "source": [
        "numbers.remove(3)"
      ],
      "metadata": {
        "id": "DyvHwZm6HI0i"
      },
      "execution_count": 21,
      "outputs": []
    },
    {
      "cell_type": "code",
      "source": [
        "print(numbers)"
      ],
      "metadata": {
        "colab": {
          "base_uri": "https://localhost:8080/"
        },
        "id": "aPZPi_IKHP9e",
        "outputId": "03419e59-4d52-49c2-be25-9444c0749629"
      },
      "execution_count": 22,
      "outputs": [
        {
          "output_type": "stream",
          "name": "stdout",
          "text": [
            "[1, 2, 4, 5]\n"
          ]
        }
      ]
    },
    {
      "cell_type": "markdown",
      "source": [
        "###9. Write a code to access the second element in the list ['a', 'b', 'c', 'd']."
      ],
      "metadata": {
        "id": "0x0C5LG2H6Ox"
      }
    },
    {
      "cell_type": "code",
      "source": [
        "letters = ['a','b','c','d']"
      ],
      "metadata": {
        "id": "dgyiZyL9Imww"
      },
      "execution_count": 23,
      "outputs": []
    },
    {
      "cell_type": "code",
      "source": [
        "second_element = letters[1]"
      ],
      "metadata": {
        "id": "CgNXTE4a10lM"
      },
      "execution_count": 24,
      "outputs": []
    },
    {
      "cell_type": "code",
      "source": [
        "print(second_element)"
      ],
      "metadata": {
        "colab": {
          "base_uri": "https://localhost:8080/"
        },
        "id": "6IuuTXlP2TzQ",
        "outputId": "f531568f-0978-4d9c-8356-e6a4cc740694"
      },
      "execution_count": 25,
      "outputs": [
        {
          "output_type": "stream",
          "name": "stdout",
          "text": [
            "b\n"
          ]
        }
      ]
    },
    {
      "cell_type": "markdown",
      "source": [
        "###10.Write a code to reverse the list [10, 20, 30, 40, 50]."
      ],
      "metadata": {
        "id": "twwDZCRc2ljI"
      }
    },
    {
      "cell_type": "code",
      "source": [
        "numbers = [10,20,30,40,50]"
      ],
      "metadata": {
        "id": "_lEYzUkX2o0l"
      },
      "execution_count": 26,
      "outputs": []
    },
    {
      "cell_type": "code",
      "source": [
        "reversed_list = list(reversed(numbers))"
      ],
      "metadata": {
        "id": "fBkFnIU02vmC"
      },
      "execution_count": 27,
      "outputs": []
    },
    {
      "cell_type": "code",
      "source": [
        "print(reversed_list)"
      ],
      "metadata": {
        "colab": {
          "base_uri": "https://localhost:8080/"
        },
        "id": "fJ9Dzfwl3EWU",
        "outputId": "eb267cd5-978b-407a-eb10-00ce5ac4529e"
      },
      "execution_count": 28,
      "outputs": [
        {
          "output_type": "stream",
          "name": "stdout",
          "text": [
            "[50, 40, 30, 20, 10]\n"
          ]
        }
      ]
    },
    {
      "cell_type": "markdown",
      "source": [
        "###11. Write a code to create a tuple with the elements 100, 200, 300 and print it."
      ],
      "metadata": {
        "id": "CNiEDWcL3eOy"
      }
    },
    {
      "cell_type": "code",
      "source": [
        "tuple = (100,200,300)"
      ],
      "metadata": {
        "id": "x9h6rGZx3iXO"
      },
      "execution_count": 29,
      "outputs": []
    },
    {
      "cell_type": "code",
      "source": [
        "print(tuple)"
      ],
      "metadata": {
        "colab": {
          "base_uri": "https://localhost:8080/"
        },
        "id": "Xw6Gp_y25DbF",
        "outputId": "0680a8ba-d6c4-43eb-cec4-c2687aad70b4"
      },
      "execution_count": 30,
      "outputs": [
        {
          "output_type": "stream",
          "name": "stdout",
          "text": [
            "(100, 200, 300)\n"
          ]
        }
      ]
    },
    {
      "cell_type": "markdown",
      "source": [
        "###12.  Write a code to access the second-to-last element of the tuple ('red', 'green', 'blue', 'yellow')."
      ],
      "metadata": {
        "id": "ZU1ap1gG5XjA"
      }
    },
    {
      "cell_type": "code",
      "source": [
        "colors = ('red', 'green','blue','yellow')"
      ],
      "metadata": {
        "id": "_RSXHrvr5bpX"
      },
      "execution_count": 31,
      "outputs": []
    },
    {
      "cell_type": "code",
      "source": [
        "second_last = colors[-2]"
      ],
      "metadata": {
        "id": "Zqy-9DAi6PXR"
      },
      "execution_count": 32,
      "outputs": []
    },
    {
      "cell_type": "code",
      "source": [
        "print(second_last)"
      ],
      "metadata": {
        "colab": {
          "base_uri": "https://localhost:8080/"
        },
        "id": "eB_IEUsb6Zz1",
        "outputId": "1f5a5caf-08e9-404a-8dc5-8469fa9e2066"
      },
      "execution_count": 33,
      "outputs": [
        {
          "output_type": "stream",
          "name": "stdout",
          "text": [
            "blue\n"
          ]
        }
      ]
    },
    {
      "cell_type": "markdown",
      "source": [
        "###13. Write a code to find the minimum number in the tuple (10, 20, 5, 15)"
      ],
      "metadata": {
        "id": "9wajE1Ri6whw"
      }
    },
    {
      "cell_type": "code",
      "source": [
        "tuple = (10,20,5,15)"
      ],
      "metadata": {
        "id": "rszonfBr60Mq"
      },
      "execution_count": 34,
      "outputs": []
    },
    {
      "cell_type": "code",
      "source": [
        "min(tuple)"
      ],
      "metadata": {
        "colab": {
          "base_uri": "https://localhost:8080/"
        },
        "id": "wygWHGy87BPq",
        "outputId": "9a4faeb4-187a-4ca3-ec50-da7f503657e3"
      },
      "execution_count": 35,
      "outputs": [
        {
          "output_type": "execute_result",
          "data": {
            "text/plain": [
              "5"
            ]
          },
          "metadata": {},
          "execution_count": 35
        }
      ]
    },
    {
      "cell_type": "markdown",
      "source": [
        "###14.  Write a code to find the index of the element \"cat\" in the tuple ('dog', 'cat', 'rabbit')."
      ],
      "metadata": {
        "id": "5tA1qcM87o6o"
      }
    },
    {
      "cell_type": "code",
      "source": [
        "tuple1 = ('dog','cat','rabbit')"
      ],
      "metadata": {
        "id": "XNDkXafW7tRD"
      },
      "execution_count": 36,
      "outputs": []
    },
    {
      "cell_type": "code",
      "source": [
        "tuple1.index(\"cat\")"
      ],
      "metadata": {
        "colab": {
          "base_uri": "https://localhost:8080/"
        },
        "id": "Ocvqaw-F79kK",
        "outputId": "187b6284-0196-4398-875f-1f0467956663"
      },
      "execution_count": 37,
      "outputs": [
        {
          "output_type": "execute_result",
          "data": {
            "text/plain": [
              "1"
            ]
          },
          "metadata": {},
          "execution_count": 37
        }
      ]
    },
    {
      "cell_type": "markdown",
      "source": [
        "###15. . Write a code to create a tuple containing three different fruits and check if \"kiwi\" is in it."
      ],
      "metadata": {
        "id": "Jjz3_yCm9S34"
      }
    },
    {
      "cell_type": "code",
      "source": [
        "tuple= (\"apple\",\"mango\",\"kiwi\")"
      ],
      "metadata": {
        "id": "LuDjSzw29YPH"
      },
      "execution_count": 38,
      "outputs": []
    },
    {
      "cell_type": "code",
      "source": [
        "if \"kiwi\" in tuple: #Check if \"kiwi\" is in the tuple\n",
        "  print(\"kiwi is in the tuple.\")\n",
        "else:\n",
        "  print(\"kiwi is not in the tuple.\")"
      ],
      "metadata": {
        "colab": {
          "base_uri": "https://localhost:8080/"
        },
        "id": "7qgN7TFEABYg",
        "outputId": "7d2c6444-5b1d-473f-af60-58e302eefe29"
      },
      "execution_count": 39,
      "outputs": [
        {
          "output_type": "stream",
          "name": "stdout",
          "text": [
            "kiwi is in the tuple.\n"
          ]
        }
      ]
    },
    {
      "cell_type": "markdown",
      "source": [
        "###16. Write a code to create a set with the elements 'a', 'b', 'c' and print it."
      ],
      "metadata": {
        "id": "b8taWP1X_XgK"
      }
    },
    {
      "cell_type": "code",
      "source": [
        "my_set = {'a', 'b', 'c'}\n"
      ],
      "metadata": {
        "id": "8uMFw9JP_bub"
      },
      "execution_count": 40,
      "outputs": []
    },
    {
      "cell_type": "code",
      "source": [
        "print(my_set)"
      ],
      "metadata": {
        "colab": {
          "base_uri": "https://localhost:8080/"
        },
        "id": "QurJpoL-AhnC",
        "outputId": "d634b62f-4ac1-4139-8174-25921c3838e2"
      },
      "execution_count": 41,
      "outputs": [
        {
          "output_type": "stream",
          "name": "stdout",
          "text": [
            "{'a', 'c', 'b'}\n"
          ]
        }
      ]
    },
    {
      "cell_type": "markdown",
      "source": [
        "###17. Write a code to clear all elements from the set {1, 2, 3, 4, 5}."
      ],
      "metadata": {
        "id": "XI0f9_CtBVX5"
      }
    },
    {
      "cell_type": "code",
      "source": [
        "my_set = {1,2,3,4}"
      ],
      "metadata": {
        "id": "f94zjl59BY1s"
      },
      "execution_count": 42,
      "outputs": []
    },
    {
      "cell_type": "code",
      "source": [
        "my_set.clear()"
      ],
      "metadata": {
        "id": "0MEVVZZdB5aN"
      },
      "execution_count": 43,
      "outputs": []
    },
    {
      "cell_type": "code",
      "source": [
        "print(my_set)"
      ],
      "metadata": {
        "colab": {
          "base_uri": "https://localhost:8080/"
        },
        "id": "dVutmVBiB-fj",
        "outputId": "33e8290a-4f69-47d1-8778-4761373a0871"
      },
      "execution_count": 44,
      "outputs": [
        {
          "output_type": "stream",
          "name": "stdout",
          "text": [
            "set()\n"
          ]
        }
      ]
    },
    {
      "cell_type": "markdown",
      "source": [
        "###18.  Write a code to remove the element 4 from the set {1, 2, 3, 4}."
      ],
      "metadata": {
        "id": "dt_Py6sBCIGg"
      }
    },
    {
      "cell_type": "code",
      "source": [
        "my_set = {1,2,3,4}"
      ],
      "metadata": {
        "id": "n8IXRYGrCLyK"
      },
      "execution_count": 45,
      "outputs": []
    },
    {
      "cell_type": "code",
      "source": [
        "my_set.remove(4)"
      ],
      "metadata": {
        "id": "IwLLvwR1CQcf"
      },
      "execution_count": 46,
      "outputs": []
    },
    {
      "cell_type": "code",
      "source": [
        "my_set"
      ],
      "metadata": {
        "colab": {
          "base_uri": "https://localhost:8080/"
        },
        "id": "_pHB5grWCbAL",
        "outputId": "397f3bd2-42b7-4c73-b138-6849b17fc5a2"
      },
      "execution_count": 47,
      "outputs": [
        {
          "output_type": "execute_result",
          "data": {
            "text/plain": [
              "{1, 2, 3}"
            ]
          },
          "metadata": {},
          "execution_count": 47
        }
      ]
    },
    {
      "cell_type": "markdown",
      "source": [
        "###19.  Write a code to find the union of two sets {1, 2, 3} and {3, 4, 5}."
      ],
      "metadata": {
        "id": "L2VDrc1TCraR"
      }
    },
    {
      "cell_type": "code",
      "source": [
        "set1 = {1,2,3}\n",
        "set2 = {3,4,5}"
      ],
      "metadata": {
        "id": "rob_XQpoCuzF"
      },
      "execution_count": 48,
      "outputs": []
    },
    {
      "cell_type": "code",
      "source": [
        "set1 | set2"
      ],
      "metadata": {
        "colab": {
          "base_uri": "https://localhost:8080/"
        },
        "id": "HAUq3Qx7V2XT",
        "outputId": "c886c137-7711-4b7b-b7d0-9a4575a5c39c"
      },
      "execution_count": 49,
      "outputs": [
        {
          "output_type": "execute_result",
          "data": {
            "text/plain": [
              "{1, 2, 3, 4, 5}"
            ]
          },
          "metadata": {},
          "execution_count": 49
        }
      ]
    },
    {
      "cell_type": "markdown",
      "source": [
        "###20.  Write a code to find the intersection of two sets {1, 2, 3} and {2, 3, 4}."
      ],
      "metadata": {
        "id": "Mb3657XaDpWB"
      }
    },
    {
      "cell_type": "code",
      "source": [
        "set1 = {1,2,3}\n",
        "set2 = {2,3,4}"
      ],
      "metadata": {
        "id": "OP--VmO7DtF6"
      },
      "execution_count": 50,
      "outputs": []
    },
    {
      "cell_type": "code",
      "source": [
        "set1"
      ],
      "metadata": {
        "colab": {
          "base_uri": "https://localhost:8080/"
        },
        "id": "En9YKyv8Usyy",
        "outputId": "56e38e43-19b8-4488-917f-dd99afe63d11"
      },
      "execution_count": 51,
      "outputs": [
        {
          "output_type": "execute_result",
          "data": {
            "text/plain": [
              "{1, 2, 3}"
            ]
          },
          "metadata": {},
          "execution_count": 51
        }
      ]
    },
    {
      "cell_type": "code",
      "source": [
        "set2"
      ],
      "metadata": {
        "colab": {
          "base_uri": "https://localhost:8080/"
        },
        "id": "_PKw7ywcVjOP",
        "outputId": "e9be0e41-fb07-465d-bec7-6f91e4bca270"
      },
      "execution_count": 52,
      "outputs": [
        {
          "output_type": "execute_result",
          "data": {
            "text/plain": [
              "{2, 3, 4}"
            ]
          },
          "metadata": {},
          "execution_count": 52
        }
      ]
    },
    {
      "cell_type": "code",
      "source": [
        "set1 & set2 #intersection of the sets"
      ],
      "metadata": {
        "colab": {
          "base_uri": "https://localhost:8080/"
        },
        "id": "Pcuu9H7QVkwM",
        "outputId": "980c12f2-e141-42d7-89f8-5cee14fd66f1"
      },
      "execution_count": 53,
      "outputs": [
        {
          "output_type": "execute_result",
          "data": {
            "text/plain": [
              "{2, 3}"
            ]
          },
          "metadata": {},
          "execution_count": 53
        }
      ]
    },
    {
      "cell_type": "markdown",
      "source": [
        "###21.  Write a code to create a dictionary with the keys \"name\", \"age\", and \"city\", and print it."
      ],
      "metadata": {
        "id": "T-vgCNE2WxLj"
      }
    },
    {
      "cell_type": "code",
      "source": [
        "d = {\"name\":\"manisha\",\"age\":\"21\",\"city\":\"Ranchi\"}"
      ],
      "metadata": {
        "id": "45IOw2h2W0tk"
      },
      "execution_count": 54,
      "outputs": []
    },
    {
      "cell_type": "code",
      "source": [
        "print(d)"
      ],
      "metadata": {
        "colab": {
          "base_uri": "https://localhost:8080/"
        },
        "id": "TQevjepqYQI0",
        "outputId": "6f2bf464-6f3f-4bb9-eece-8cebfb3e8e85"
      },
      "execution_count": 55,
      "outputs": [
        {
          "output_type": "stream",
          "name": "stdout",
          "text": [
            "{'name': 'manisha', 'age': '21', 'city': 'Ranchi'}\n"
          ]
        }
      ]
    },
    {
      "cell_type": "markdown",
      "source": [
        "###22.  Write a code to add a new key-value pair \"country\": \"USA\" to the dictionary {'name': 'John', 'age': 25}."
      ],
      "metadata": {
        "id": "VLf4HBaxZBvt"
      }
    },
    {
      "cell_type": "code",
      "source": [
        "d = {'name':'john','age':'25'}"
      ],
      "metadata": {
        "id": "5qbeRwE8ZI3K"
      },
      "execution_count": 56,
      "outputs": []
    },
    {
      "cell_type": "code",
      "source": [
        "d['country'] = 'USA'  #add new key-value pair"
      ],
      "metadata": {
        "id": "_ebTAOgqZmsl"
      },
      "execution_count": 57,
      "outputs": []
    },
    {
      "cell_type": "code",
      "source": [
        "print(d)"
      ],
      "metadata": {
        "colab": {
          "base_uri": "https://localhost:8080/"
        },
        "id": "gfqMH7qFZtcT",
        "outputId": "1de3de8b-d459-4b68-ccb3-c67a74d1c917"
      },
      "execution_count": 58,
      "outputs": [
        {
          "output_type": "stream",
          "name": "stdout",
          "text": [
            "{'name': 'john', 'age': '25', 'country': 'USA'}\n"
          ]
        }
      ]
    },
    {
      "cell_type": "markdown",
      "source": [
        "###23. Write a code to access the value associated with the key \"name\" in the dictionary {'name': 'Alice', 'age': 30}."
      ],
      "metadata": {
        "id": "aTbv1mPqaC0K"
      }
    },
    {
      "cell_type": "code",
      "source": [
        "person = {'name': 'Alice', 'age': '30'}"
      ],
      "metadata": {
        "id": "RQ1gCwp7gdDy"
      },
      "execution_count": 59,
      "outputs": []
    },
    {
      "cell_type": "code",
      "source": [
        "person['name']"
      ],
      "metadata": {
        "colab": {
          "base_uri": "https://localhost:8080/",
          "height": 35
        },
        "id": "yWIjKX8ShX-l",
        "outputId": "acbabc3d-16f9-4821-e983-ce2486dc75e7"
      },
      "execution_count": 60,
      "outputs": [
        {
          "output_type": "execute_result",
          "data": {
            "text/plain": [
              "'Alice'"
            ],
            "application/vnd.google.colaboratory.intrinsic+json": {
              "type": "string"
            }
          },
          "metadata": {},
          "execution_count": 60
        }
      ]
    },
    {
      "cell_type": "markdown",
      "source": [
        "###24.  Write a code to remove the key \"age\" from the dictionary {'name': 'Bob', 'age': 22, 'city': 'New York'}."
      ],
      "metadata": {
        "id": "M11fh7Vui4w6"
      }
    },
    {
      "cell_type": "code",
      "source": [
        "d = {'name':'Bob','age':22,'city':'New York'}"
      ],
      "metadata": {
        "id": "uu4_-gSji8Lj"
      },
      "execution_count": 61,
      "outputs": []
    },
    {
      "cell_type": "code",
      "source": [
        "del d['age']"
      ],
      "metadata": {
        "id": "-xMAnVW9jbN5"
      },
      "execution_count": 62,
      "outputs": []
    },
    {
      "cell_type": "code",
      "source": [
        "print(d)"
      ],
      "metadata": {
        "colab": {
          "base_uri": "https://localhost:8080/"
        },
        "id": "usPkfpfXjrwo",
        "outputId": "b668d07f-5d1e-4c04-cf25-e95be0587184"
      },
      "execution_count": 63,
      "outputs": [
        {
          "output_type": "stream",
          "name": "stdout",
          "text": [
            "{'name': 'Bob', 'city': 'New York'}\n"
          ]
        }
      ]
    },
    {
      "cell_type": "markdown",
      "source": [
        "###25.  Write a code to check if the key \"city\" exists in the dictionary {'name': 'Alice', 'city': 'Paris'}."
      ],
      "metadata": {
        "id": "cvdk0y5aj7fB"
      }
    },
    {
      "cell_type": "code",
      "source": [
        "d = {'name': 'Alice', 'city': 'Paris'}\n",
        "if 'city' in d:\n",
        "    print(\"The key 'city' exists in the dictionary.\")\n",
        "else:\n",
        "    print(\"The key 'city' does not exist.\")"
      ],
      "metadata": {
        "colab": {
          "base_uri": "https://localhost:8080/"
        },
        "id": "Cxs6lAWqkAt1",
        "outputId": "fa038453-4aaf-4815-a82d-acb30230baf9"
      },
      "execution_count": 64,
      "outputs": [
        {
          "output_type": "stream",
          "name": "stdout",
          "text": [
            "The key 'city' exists in the dictionary.\n"
          ]
        }
      ]
    },
    {
      "cell_type": "markdown",
      "source": [
        "###26. Write a code to create a list, a tuple, and a dictionary, and print them all."
      ],
      "metadata": {
        "id": "jTluLY5JmHYJ"
      }
    },
    {
      "cell_type": "code",
      "source": [
        "list = [1,2,3,4]\n",
        "tuple = (\"sun\",\"moon\",\"star\")\n",
        "dict = {\"name\":\"manisha\",\"age\": \"21\"}"
      ],
      "metadata": {
        "id": "TC0vRFFdmLhd"
      },
      "execution_count": 65,
      "outputs": []
    },
    {
      "cell_type": "code",
      "source": [
        "print(\"list is:\",list)\n",
        "print(\"tupple is:\",tuple)\n",
        "print(\"dictionary is:\",dict)"
      ],
      "metadata": {
        "colab": {
          "base_uri": "https://localhost:8080/"
        },
        "id": "ZLbnmuBEmsSZ",
        "outputId": "035579b5-d2bf-4422-a8c6-de16116c21c3"
      },
      "execution_count": 66,
      "outputs": [
        {
          "output_type": "stream",
          "name": "stdout",
          "text": [
            "list is: [1, 2, 3, 4]\n",
            "tupple is: ('sun', 'moon', 'star')\n",
            "dictionary is: {'name': 'manisha', 'age': '21'}\n"
          ]
        }
      ]
    },
    {
      "cell_type": "markdown",
      "source": [
        "###27.  Write a code to create a list of 5 random numbers between 1 and 100, sort it in ascending order, and print the result.(replaced)\n",
        "\n"
      ],
      "metadata": {
        "id": "CjUual1tnnvh"
      }
    },
    {
      "cell_type": "code",
      "source": [
        "import random\n",
        "\n",
        "numbers = random.sample(range(1, 101), 5)\n",
        "\n",
        "numbers.sort()\n",
        "\n",
        "print(\"Sorted numbers (replaced):\", numbers)"
      ],
      "metadata": {
        "colab": {
          "base_uri": "https://localhost:8080/"
        },
        "id": "v1EjSFoQnp7S",
        "outputId": "fdb71388-2e15-4e18-c8f0-cd8e90904d90"
      },
      "execution_count": 67,
      "outputs": [
        {
          "output_type": "stream",
          "name": "stdout",
          "text": [
            "Sorted numbers (replaced): [2, 10, 56, 61, 89]\n"
          ]
        }
      ]
    },
    {
      "cell_type": "markdown",
      "source": [
        "###28.  Write a code to create a list with strings and print the element at the third index."
      ],
      "metadata": {
        "id": "l1mAQYk-qDaq"
      }
    },
    {
      "cell_type": "code",
      "source": [
        "items = [\"shirt\",\"shoes\",\"pant\",\"socks\",\"saree\"]"
      ],
      "metadata": {
        "id": "6p-Qu3QkqFzo"
      },
      "execution_count": 68,
      "outputs": []
    },
    {
      "cell_type": "code",
      "source": [
        "print(\"the element at the third index is:\",items[3])"
      ],
      "metadata": {
        "colab": {
          "base_uri": "https://localhost:8080/"
        },
        "id": "ZHthTu2mqk6F",
        "outputId": "3db0c9a3-4c06-4c8f-b61c-84f3c134a569"
      },
      "execution_count": 69,
      "outputs": [
        {
          "output_type": "stream",
          "name": "stdout",
          "text": [
            "the element at the third index is: socks\n"
          ]
        }
      ]
    },
    {
      "cell_type": "markdown",
      "source": [
        "###29. Write a code to combine two dictionaries into one and print the result."
      ],
      "metadata": {
        "id": "ImD9TsfEsAki"
      }
    },
    {
      "cell_type": "code",
      "source": [
        "d1 = {\"name\":\"manisha\",\"age\":\"21\"}"
      ],
      "metadata": {
        "id": "BMIBmdhgsD76"
      },
      "execution_count": 70,
      "outputs": []
    },
    {
      "cell_type": "code",
      "source": [
        "d2 = {\"city\": \"Ranchi\", \"hobby\": \"coding\"}"
      ],
      "metadata": {
        "id": "HaUOYL5SshTP"
      },
      "execution_count": 71,
      "outputs": []
    },
    {
      "cell_type": "code",
      "source": [
        "d1.update(d2)"
      ],
      "metadata": {
        "id": "rsUC6p5uwATZ"
      },
      "execution_count": 72,
      "outputs": []
    },
    {
      "cell_type": "code",
      "source": [
        "print(\"combined dictionaries:\",d1)"
      ],
      "metadata": {
        "colab": {
          "base_uri": "https://localhost:8080/"
        },
        "id": "658_nmP1wAQy",
        "outputId": "1c4dbb3f-f9e3-4a16-ca81-9a3e038e2513"
      },
      "execution_count": 73,
      "outputs": [
        {
          "output_type": "stream",
          "name": "stdout",
          "text": [
            "combined dictionaries: {'name': 'manisha', 'age': '21', 'city': 'Ranchi', 'hobby': 'coding'}\n"
          ]
        }
      ]
    },
    {
      "cell_type": "markdown",
      "source": [
        "###30. Write a code to convert a list of strings into a set."
      ],
      "metadata": {
        "id": "ZyTyw3RouNCS"
      }
    },
    {
      "cell_type": "code",
      "source": [
        "fruits = [\"apple\", \"banana\", \"cherry\", \"apple\", \"banana\"]\n"
      ],
      "metadata": {
        "id": "HfOIZ1UAuRBr"
      },
      "execution_count": 74,
      "outputs": []
    },
    {
      "cell_type": "code",
      "source": [
        "fruit_set = set(fruits)"
      ],
      "metadata": {
        "id": "tHvRnayZubMK"
      },
      "execution_count": 75,
      "outputs": []
    },
    {
      "cell_type": "code",
      "source": [
        "print(\"Set:\", fruit_set)"
      ],
      "metadata": {
        "colab": {
          "base_uri": "https://localhost:8080/"
        },
        "id": "CJX_SoHMubIj",
        "outputId": "dc9b53e4-f95f-4fbe-b345-d8862a7788f7"
      },
      "execution_count": 76,
      "outputs": [
        {
          "output_type": "stream",
          "name": "stdout",
          "text": [
            "Set: {'banana', 'apple', 'cherry'}\n"
          ]
        }
      ]
    }
  ]
}